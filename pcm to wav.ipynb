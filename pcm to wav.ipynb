{
 "cells": [
  {
   "cell_type": "markdown",
   "metadata": {},
   "source": [
    "pcm 오디오 파일을 읽어 wav로 저장합니다. \n",
    "- pcm 의 설정 정보를 알아야 함\n",
    "- 참고: https://docs.python.org/ko/3.8/library/wave.html"
   ]
  },
  {
   "cell_type": "code",
   "execution_count": 27,
   "metadata": {},
   "outputs": [],
   "source": [
    "from pathlib import Path\n",
    "from tqdm import tqdm_notebook"
   ]
  },
  {
   "cell_type": "code",
   "execution_count": 12,
   "metadata": {},
   "outputs": [],
   "source": [
    "path = Path('../data/KsponSpeech_01')"
   ]
  },
  {
   "cell_type": "code",
   "execution_count": 28,
   "metadata": {},
   "outputs": [],
   "source": [
    "for each in path.iterdir():\n",
    "    each = Path(each)\n",
    "    for pcm_file in each.glob('*.pcm'):\n",
    "        with open(str(pcm_file), 'rb') as f:\n",
    "            data = f.read()\n",
    "        import wave\n",
    "        with wave.open(str(pcm_file) + '.wav', 'wb') as f:\n",
    "            # (nchannels, sampwidth, framerate, nframes, comptype, compname)\n",
    "            f.setparams((1, 2, 16000, 0, 'NONE', 'NONE'))\n",
    "            f.writeframes(data)\n"
   ]
  }
 ],
 "metadata": {
  "kernelspec": {
   "display_name": "Python 3",
   "language": "python",
   "name": "python3"
  },
  "language_info": {
   "codemirror_mode": {
    "name": "ipython",
    "version": 3
   },
   "file_extension": ".py",
   "mimetype": "text/x-python",
   "name": "python",
   "nbconvert_exporter": "python",
   "pygments_lexer": "ipython3",
   "version": "3.7.4"
  }
 },
 "nbformat": 4,
 "nbformat_minor": 2
}
