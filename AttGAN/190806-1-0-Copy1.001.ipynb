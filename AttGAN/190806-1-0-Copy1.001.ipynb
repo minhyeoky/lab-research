{
 "cells": [
  {
   "cell_type": "markdown",
   "metadata": {},
   "source": [
    "**TODO**\n",
    "- hyper parameter tunning\n",
    "    - [ ] lr, batch_size, lambdas\n",
    "    - [ ] .sh -> config -> Tensorboard에서 쉽게 확인할 수 있게 저장\n",
    "- Callbacks <- tape. X\n",
    "    - [x] Tensorboad - img, loss.\n",
    "    - [x] EarlyStopping - 종료조건?\n",
    "    - [x] ModelCheckpoint - per epoch\n",
    "- Tensorflow 2.0b1\n",
    "    - [x] dataset -> for\n",
    "    - [x] Gradient Tape    \n",
    "    - [ ] @tf.function"
   ]
  },
  {
   "cell_type": "markdown",
   "metadata": {},
   "source": [
    "**훈련 루프**\n",
    "\n",
    "- [x] status_bar\n",
    "- [x] metrics\n",
    "\n",
    "\n",
    "\n",
    "### Tensorboard\n",
    "\n",
    "https://www.tensorflow.org/tensorboard/r2/scalars_and_keras\n",
    "\n",
    "1. file writer 생성\n",
    "2. with train_summary_writer.as_default() - context manager\n",
    "3. tf.summary.scalar...image..\n",
    "4. metric 관리 -> train_loss.result(), reset"
   ]
  },
  {
   "cell_type": "code",
   "execution_count": 1,
   "metadata": {},
   "outputs": [
    {
     "name": "stdout",
     "output_type": "stream",
     "text": [
      "\u001b[33mWARNING: You are using pip version 19.1.1, however version 19.2.1 is available.\r\n",
      "You should consider upgrading via the 'pip install --upgrade pip' command.\u001b[0m\r\n"
     ]
    }
   ],
   "source": [
    "!pip install -q matplotlib pillow scikit-learn"
   ]
  },
  {
   "cell_type": "code",
   "execution_count": 9,
   "metadata": {
    "scrolled": true
   },
   "outputs": [
    {
     "name": "stdout",
     "output_type": "stream",
     "text": [
      "mappingproxy({'__dict__': <attribute '__dict__' of 'BaseConfig' objects>,\n",
      "              '__doc__': None,\n",
      "              '__module__': 'config',\n",
      "              '__weakref__': <attribute '__weakref__' of 'BaseConfig' objects>,\n",
      "              'batch_size': 128,\n",
      "              'epochs': 200,\n",
      "              'filepath': '../data/output_dir/models_001',\n",
      "              'img_dir': '../data/CelebA/img_align_celeba',\n",
      "              'label_path': '../data/CelebA/Anno/list_attr_celeba.txt',\n",
      "              'lambda_L_cls_c': 1.0,\n",
      "              'lambda_L_cls_g': 1.0,\n",
      "              'lambda_L_rec': 100.0,\n",
      "              'leaky_relu_alpha': 0.3,\n",
      "              'learning_rate': 0.0001,\n",
      "              'log_dir': '../data/output_dir',\n",
      "              'n_val': 1,\n",
      "              'num_attr': 13,\n",
      "              'update_freq': 10,\n",
      "              'verbose': 1})\n",
      "mappingproxy({'__doc__': None,\n",
      "              '__module__': 'config',\n",
      "              'filepath': '/tf/data/output_dir/models_001',\n",
      "              'img_dir': '/tf/data/CelebA/img_align_celeba',\n",
      "              'label_path': '/tf/data/CelebA/Anno/list_attr_celeba.txt',\n",
      "              'log_dir': '/tf/data/output_dir'})\n",
      "2.0.0-beta1\n"
     ]
    }
   ],
   "source": [
    "import tensorflow as tf\n",
    "import importlib\n",
    "from pprint import pprint\n",
    "import matplotlib.pyplot as plt\n",
    "from PIL import Image\n",
    "keras = tf.keras\n",
    "K =keras.backend\n",
    "\n",
    "# reload needed\n",
    "import data.data_generator as data_generator\n",
    "import models.dc as dc\n",
    "import models.generator as generator\n",
    "import config\n",
    "\n",
    "# reloading\n",
    "importlib.reload(config)\n",
    "importlib.reload(data_generator)\n",
    "importlib.reload(dc)\n",
    "importlib.reload(generator)\n",
    "\n",
    "pprint(config.BaseConfig.__dict__)\n",
    "config = config.DockerConfig\n",
    "pprint(config.__dict__)\n",
    "\n",
    "print(tf.__version__)"
   ]
  },
  {
   "cell_type": "code",
   "execution_count": 10,
   "metadata": {},
   "outputs": [],
   "source": [
    "mean_squared_error = keras.losses.mean_squared_error\n",
    "mean_absolute_error = keras.losses.mean_absolute_error\n",
    "binary_crossentropy = keras.losses.binary_crossentropy\n",
    "mean_absolute_error = keras.losses.mean_absolute_error\n",
    "Adam = keras.optimizers.Adam\n"
   ]
  },
  {
   "cell_type": "code",
   "execution_count": 11,
   "metadata": {},
   "outputs": [],
   "source": [
    "\n",
    "def train_step(models, inputs, optimizers, metrics, config: config):\n",
    "    \"\"\"\n",
    "    AttGAN train step\n",
    "    models: generator, discriminator\n",
    "    \n",
    "    :return: metrics, preds\n",
    "    \"\"\"\n",
    "    g, d = models\n",
    "    xa, a, b = inputs\n",
    "    opt_g, opt_d = optimizers\n",
    "    losses = {}\n",
    "    preds = None # imgs\n",
    "    \n",
    "    ## train discriminator ##\n",
    "    with tf.GradientTape() as tape:\n",
    "        # loss_cls\n",
    "        # loss_adv\n",
    "        _, xb_ = g(inputs)\n",
    "        probs_d, probs_c = d(inputs=(xa, xb_))\n",
    "        (d_xa, d_xb_), (c_xa, c_xb_) = probs_d, probs_c\n",
    "        \n",
    "#         loss_adv = mean_squared_error(K.flatten(K.ones_like(d_xa)), K.flatten(d_xa)) + mean_squared_error(K.flatten(K.zeros_like(d_xb_)), K.flatten(d_xb_))\n",
    "        loss_adv = binary_crossentropy(K.flatten(K.ones_like(d_xa)), K.flatten(d_xa)) + binary_crossentropy(K.flatten(K.zeros_like(d_xb_)), K.flatten(d_xb_))\n",
    "        loss_cls = binary_crossentropy(K.flatten(a), K.flatten(c_xa), from_logits=False) * config.lambda_L_cls_c\n",
    "        \n",
    "        \n",
    "        loss = loss_adv + loss_cls\n",
    "        losses = {**losses,\n",
    "            'loss_adv_d': loss_adv,\n",
    "            'loss_cls_d': loss_cls,\n",
    "            'loss_d': loss\n",
    "        }\n",
    "#         print(f'loss: {loss.numpy(): 10.5f}')\n",
    "#         print(f'loss_adv_d: {loss_adv.numpy(): 10.5f}')\n",
    "#         print(f'loss_cls_d: {loss_cls.numpy(): 10.5f}')\n",
    "        \n",
    "    grads = tape.gradient(target=loss, sources=d.trainable_variables)\n",
    "    opt_d.apply_gradients(zip(grads, d.trainable_variables))\n",
    "\n",
    "        \n",
    "        \n",
    "    ## train generator ##\n",
    "    with tf.GradientTape() as tape:\n",
    "        \n",
    "        xa_, xb_ = g(inputs)\n",
    "        preds = xa_, xb_\n",
    "        probs_d, probs_c = d(inputs=(xa, xb_))\n",
    "        (_, d_xb_), (_, c_xb_) = probs_d, probs_c\n",
    "\n",
    "        loss_rec = mean_absolute_error(K.flatten(xa_), K.flatten(xa)) * config.lambda_L_rec\n",
    "        loss_cls = binary_crossentropy(K.flatten(b), K.flatten(c_xb_), from_logits=False) * config.lambda_L_cls_g\n",
    "#         loss_adv = mean_squared_error(K.flatten(K.ones_like(d_xb_)), K.flatten(d_xb_))\n",
    "        loss_adv = binary_crossentropy(K.flatten(K.ones_like(d_xb_)), K.flatten(d_xb_))\n",
    "\n",
    "        \n",
    "        loss = loss_rec + loss_cls + loss_adv\n",
    "        \n",
    "        losses = {**losses,\n",
    "            'loss_rec_g': loss_rec,\n",
    "            'loss_adv_g': loss_adv,\n",
    "            'loss_cls_g': loss_cls,\n",
    "            'loss_g': loss\n",
    "        }\n",
    "#         print(f'loss: {loss.numpy(): 10.5f}')\n",
    "#         print(f'loss_rec: {loss_rec.numpy(): 10.5f}')\n",
    "#         print(f'loss_adv_g: {loss_adv.numpy(): 10.5f}')\n",
    "#         print(f'loss_cls_g: {loss_cls.numpy(): 10.5f}')\n",
    "        \n",
    "    grads = tape.gradient(target=loss, sources=g.trainable_variables)\n",
    "    opt_g.apply_gradients(zip(grads, g.trainable_variables))\n",
    "    \n",
    "    for name, metric in metrics.items():\n",
    "        metric(losses[name])\n",
    "    \n",
    "    return metrics, preds\n",
    "    \n",
    "\n"
   ]
  },
  {
   "cell_type": "code",
   "execution_count": 12,
   "metadata": {},
   "outputs": [],
   "source": [
    "def val_step(models, inputs, metrics, config: config):\n",
    "    \n",
    "    g, d = models\n",
    "    xa, a, b = inputs\n",
    "    losses = {}\n",
    "    preds = None # imgs\n",
    "    \n",
    "    ## Discriminator ##\n",
    "    _, xb_ = g(inputs)\n",
    "    probs_d, probs_c = d(inputs=(xa, xb_))\n",
    "    (d_xa, d_xb_), (c_xa, c_xb_) = probs_d, probs_c\n",
    "\n",
    "#   loss_adv = mean_squared_error(K.flatten(K.ones_like(d_xa)), K.flatten(d_xa)) + mean_squared_error(K.flatten(K.zeros_like(d_xb_)), K.flatten(d_xb_))\n",
    "    loss_adv = binary_crossentropy(K.flatten(K.ones_like(d_xa)), K.flatten(d_xa)) + binary_crossentropy(K.flatten(K.zeros_like(d_xb_)), K.flatten(d_xb_))\n",
    "    loss_cls = binary_crossentropy(K.flatten(a), K.flatten(c_xa), from_logits=False) * config.lambda_L_cls_c\n",
    "    \n",
    "    loss = loss_adv + loss_cls\n",
    "    losses = {**losses,\n",
    "        'loss_adv_d': loss_adv,\n",
    "        'loss_cls_d': loss_cls,\n",
    "        'loss_d': loss\n",
    "    }\n",
    "    ## Generator ##\n",
    "    xa_, xb_ = g(inputs)\n",
    "    preds = xa_, xb_\n",
    "    \n",
    "    probs_d, probs_c = d(inputs=(xa, xb_))\n",
    "    (_, d_xb_), (_, c_xb_) = probs_d, probs_c\n",
    "\n",
    "    loss_rec = mean_absolute_error(K.flatten(xa_), K.flatten(xa)) * config.lambda_L_rec\n",
    "    loss_cls = binary_crossentropy(K.flatten(b), K.flatten(c_xb_), from_logits=False) * config.lambda_L_cls_g\n",
    "#   loss_adv = mean_squared_error(K.flatten(K.ones_like(d_xb_)), K.flatten(d_xb_))\n",
    "    loss_adv = binary_crossentropy(K.flatten(K.ones_like(d_xb_)), K.flatten(d_xb_))\n",
    "\n",
    "    loss = loss_rec + loss_cls + loss_adv\n",
    "    losses = {**losses,\n",
    "        'loss_rec_g': loss_rec,\n",
    "        'loss_adv_g': loss_adv,\n",
    "        'loss_cls_g': loss_cls,\n",
    "        'loss_g': loss\n",
    "    }\n",
    "    \n",
    "    for name, metric in metrics.items():\n",
    "        metric(losses[name])\n",
    "    \n",
    "    return metrics, preds\n",
    "    "
   ]
  },
  {
   "cell_type": "code",
   "execution_count": 13,
   "metadata": {},
   "outputs": [],
   "source": [
    "def print_status_bar(step, epoch, metrics, end='\\r'):\n",
    "    \"\"\"\n",
    "    스텝 상태바\n",
    "    \"\"\"\n",
    "    print(f\"== Epoch:{epoch: 3d},Step:{step: 5d},\\\n",
    "          loss_g: {metrics['loss_g'].result(): 5.5f},\\\n",
    "          loss_d: {metrics['loss_d'].result(): 5.5f}==\", end=end)"
   ]
  },
  {
   "cell_type": "code",
   "execution_count": 14,
   "metadata": {},
   "outputs": [],
   "source": [
    "def _demap_fn(x):\n",
    "    \"\"\"\n",
    "    이미지 denormalize\n",
    "    \"\"\"\n",
    "    x = tf.math.multiply(x, 127.5)\n",
    "    x = tf.math.add(x, 127.5)\n",
    "    x = tf.cast(x, tf.uint8)\n",
    "    return x"
   ]
  },
  {
   "cell_type": "code",
   "execution_count": 15,
   "metadata": {},
   "outputs": [],
   "source": [
    "def write_summary(writer, metrics, preds, step):\n",
    "    \"\"\"\n",
    "    텐서보드에 기록\n",
    "    :return: None\n",
    "    \"\"\"\n",
    "    with writer.as_default():\n",
    "        # metrics\n",
    "        for name, metric in metrics.items():\n",
    "            tf.summary.scalar(name=f'{name}', data=metric.result(), step=step)\n",
    "        # images\n",
    "        xa_, xb_ = preds\n",
    "        tf.summary.image(name=f'xa_', data=_demap_fn(xa_), step=step)\n",
    "        tf.summary.image(name=f'xb_', data=_demap_fn(xb_), step=step)"
   ]
  },
  {
   "cell_type": "code",
   "execution_count": 16,
   "metadata": {},
   "outputs": [
    {
     "data": {
      "text/plain": [
       "'/tf/data/output_dir'"
      ]
     },
     "execution_count": 16,
     "metadata": {},
     "output_type": "execute_result"
    }
   ],
   "source": [
    "config.log_dir"
   ]
  },
  {
   "cell_type": "code",
   "execution_count": null,
   "metadata": {
    "scrolled": false
   },
   "outputs": [
    {
     "name": "stdout",
     "output_type": "stream",
     "text": [
      "model: Generator 생성됨\n",
      "layer: Encoder 생성됨\n",
      "layer: Injector 생성됨\n",
      "layer: Decoder 생성됨\n",
      "model: Disciminator 생성됨\n",
      "layer: Common 생성됨\n",
      "layer: Discriminator 생성됨\n",
      "layer: Classifier 생성됨\n",
      "n_train: 202598\n",
      "n_val: 1\n",
      "loading labels...\n"
     ]
    },
    {
     "name": "stderr",
     "output_type": "stream",
     "text": [
      "WARNING: Logging before flag parsing goes to stderr.\n",
      "W0806 17:39:20.679435 140392921970496 deprecation.py:323] From /usr/local/lib/python3.6/dist-packages/tensorflow/python/data/ops/dataset_ops.py:505: py_func (from tensorflow.python.ops.script_ops) is deprecated and will be removed in a future version.\n",
      "Instructions for updating:\n",
      "tf.py_func is deprecated in TF V2. Instead, there are two\n",
      "    options available in V2.\n",
      "    - tf.py_function takes a python function which manipulates tf eager\n",
      "    tensors instead of numpy arrays. It's easy to convert a tf eager tensor to\n",
      "    an ndarray (just call tensor.numpy()) but having access to eager tensors\n",
      "    means `tf.py_function`s can use accelerators such as GPUs as well as\n",
      "    being differentiable using a gradient tape.\n",
      "    - tf.numpy_function maintains the semantics of the deprecated tf.py_func\n",
      "    (it is not differentiable, and manipulates numpy arrays). It drops the\n",
      "    stateful argument making all functions stateful.\n",
      "    \n"
     ]
    },
    {
     "name": "stdout",
     "output_type": "stream",
     "text": [
      "loading dataset.\r",
      "loading dataset..\n",
      "\n",
      "validation img\n"
     ]
    },
    {
     "data": {
      "image/png": "[encoded data removed]",
      "text/plain": [
       "<Figure size 432x288 with 1 Axes>"
      ]
     },
     "metadata": {
      "needs_background": "light"
     },
     "output_type": "display_data"
    },
    {
     "name": "stdout",
     "output_type": "stream",
     "text": [
      "\n",
      "Generating new dataset...\n",
      "n_train: 202598\n",
      "n_val: 1\n",
      "loading labels...\n",
      "loading dataset..\n",
      "Epoch: 0/200\n"
     ]
    },
    {
     "name": "stderr",
     "output_type": "stream",
     "text": [
      "W0806 17:39:42.604377 140392921970496 deprecation.py:323] From /usr/local/lib/python3.6/dist-packages/tensorflow/python/ops/math_grad.py:1220: add_dispatch_support.<locals>.wrapper (from tensorflow.python.ops.array_ops) is deprecated and will be removed in a future version.\n",
      "Instructions for updating:\n",
      "Use tf.where in 2.0, which has the same broadcast rule as np.where\n"
     ]
    },
    {
     "name": "stdout",
     "output_type": "stream",
     "text": [
      "== Epoch:  0,Step:   44,          loss_g:  22.14560,          loss_d:  1.34983==\r"
     ]
    }
   ],
   "source": [
    "metrics_train = {\n",
    "    'loss_g': keras.metrics.Mean(),\n",
    "    'loss_d': keras.metrics.Mean(),\n",
    "    'loss_adv_d': keras.metrics.Mean(),\n",
    "    'loss_adv_g': keras.metrics.Mean(),\n",
    "    'loss_cls_d': keras.metrics.Mean(),\n",
    "    'loss_cls_g': keras.metrics.Mean(),\n",
    "    'loss_rec_g': keras.metrics.Mean(),\n",
    "}\n",
    "\n",
    "metrics_val = {\n",
    "    'loss_g': keras.metrics.Mean(),\n",
    "    'loss_d': keras.metrics.Mean(),\n",
    "    'loss_adv_d': keras.metrics.Mean(),\n",
    "    'loss_adv_g': keras.metrics.Mean(),\n",
    "    'loss_cls_d': keras.metrics.Mean(),\n",
    "    'loss_cls_g': keras.metrics.Mean(),\n",
    "    'loss_rec_g': keras.metrics.Mean(),\n",
    "}\n",
    "# training loop\n",
    "g = generator.Generator(name='Generator')\n",
    "d = dc.DC(name='Disciminator')\n",
    "\n",
    "config.learning_rate = 0.0001\n",
    "config.lambda_L_rec = 50.0\n",
    "\n",
    "opt_g = Adam(learning_rate=config.learning_rate, beta_1=0.5)\n",
    "opt_d = Adam(learning_rate=config.learning_rate, beta_1=0.5)\n",
    "\n",
    "writer_train = tf.summary.create_file_writer(config.log_dir + '/train/190806-1-0.0001/rec50')\n",
    "writer_val = tf.summary.create_file_writer(config.log_dir + '/val/190806-1-0.0001/rec50')\n",
    "\n",
    "dataset = data_generator.dataGenerator(config)\n",
    "_, dataset_val = dataset.get_dataset()  # dataset_val만 iterator 임!\n",
    "print(f'\\nvalidation img')\n",
    "xa_val, a_val, b_val = next(dataset_val)\n",
    "plt.imshow(_demap_fn(xa_val.numpy()[0]))\n",
    "plt.show()\n",
    "\n",
    "for epoch in range(config.epochs):\n",
    "    print(f'\\nGenerating new dataset...')\n",
    "    dataset_train, _ = dataset.get_dataset()  # dataset_val만 iterator 임!\n",
    "    \n",
    "    steps_per_epoch = dataset.get_steps_per_epoch()\n",
    "    \n",
    "    print(f'Epoch:{epoch: 2d}/{config.epochs}')\n",
    "    for (step, (xa, a, b)) in enumerate(dataset_train):\n",
    "\n",
    "        global_step = epoch * steps_per_epoch + step\n",
    "        # train step\n",
    "        metrics_train, preds_train = train_step((g, d), (xa, a, b), (opt_g, opt_d), metrics_train, config)\n",
    "\n",
    "        # status bar\n",
    "        print_status_bar(step, epoch, metrics_train)\n",
    "        \n",
    "#         print('==original==')\n",
    "#         plt.imshow(_demap_fn(xa.numpy()[0]))\n",
    "#         plt.show()\n",
    "#         print('==preds==')\n",
    "#         plt.imshow(_demap_fn(preds_train[0].numpy()[0]))\n",
    "#         plt.show()\n",
    "        \n",
    "        if global_step % 10 == 0:\n",
    "            for i in range(config.n_val // config.batch_size + 1):\n",
    "                \n",
    "                metrics_val, preds_val = val_step((g, d), (xa_val, a_val, b_val), metrics_val, config)\n",
    "                write_summary(writer_train, metrics_train, preds_train, step=global_step)\n",
    "                write_summary(writer_val, metrics_val, preds_val, step=global_step)\n",
    "        \n",
    "    for name, metric in metrics_train.items():\n",
    "        metric.reset_states()\n",
    "    for name, metric in metrics_val.items():\n",
    "        metric.reset_states()\n",
    "        # print_status_bar - per step\n",
    "    # print_status_bar - per epoch\n",
    "    \n",
    "    # metric reset\n",
    "    \n",
    "    "
   ]
  },
  {
   "cell_type": "code",
   "execution_count": null,
   "metadata": {},
   "outputs": [],
   "source": []
  },
  {
   "cell_type": "code",
   "execution_count": null,
   "metadata": {},
   "outputs": [],
   "source": []
  },
  {
   "cell_type": "code",
   "execution_count": null,
   "metadata": {},
   "outputs": [],
   "source": []
  },
  {
   "cell_type": "code",
   "execution_count": null,
   "metadata": {},
   "outputs": [],
   "source": []
  },
  {
   "cell_type": "code",
   "execution_count": null,
   "metadata": {},
   "outputs": [],
   "source": [
    " "
   ]
  }
 ],
 "metadata": {
  "kernelspec": {
   "display_name": "Python 3",
   "language": "python",
   "name": "python3"
  },
  "language_info": {
   "codemirror_mode": {
    "name": "ipython",
    "version": 3
   },
   "file_extension": ".py",
   "mimetype": "text/x-python",
   "name": "python",
   "nbconvert_exporter": "python",
   "pygments_lexer": "ipython3",
   "version": "3.6.8"
  }
 },
 "nbformat": 4,
 "nbformat_minor": 2
}
