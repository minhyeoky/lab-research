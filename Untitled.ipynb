{
 "cells": [
  {
   "cell_type": "code",
   "execution_count": 1,
   "metadata": {},
   "outputs": [],
   "source": [
    "import os\n",
    "os.environ[\"CUDA_VISIBLE_DEVICES\"] = \"2,3\"\n",
    "\n",
    "from DataLoader import DataLoader\n",
    "from env import *\n",
    "from SoundAttNet import SoundAttNet\n",
    "\n",
    "import numpy as np\n",
    "import librosa\n",
    "import IPython"
   ]
  },
  {
   "cell_type": "code",
   "execution_count": 2,
   "metadata": {},
   "outputs": [
    {
     "name": "stdout",
     "output_type": "stream",
     "text": [
      "Data size: 1925\n"
     ]
    }
   ],
   "source": [
    "dloader = DataLoader(BATCH_SIZE)\n",
    "dloader.build()"
   ]
  },
  {
   "cell_type": "code",
   "execution_count": 3,
   "metadata": {},
   "outputs": [
    {
     "name": "stderr",
     "output_type": "stream",
     "text": [
      "WARNING: Logging before flag parsing goes to stderr.\n",
      "W0825 22:04:23.442262 139704549701376 deprecation_wrapper.py:119] From /home/wayexists02/projects/sound_attgan/SoundAttNet.py:50: The name tf.train.AdamOptimizer is deprecated. Please use tf.compat.v1.train.AdamOptimizer instead.\n",
      "\n",
      "W0825 22:04:23.443454 139704549701376 deprecation_wrapper.py:119] From /home/wayexists02/projects/sound_attgan/SoundAttNet.py:163: The name tf.placeholder is deprecated. Please use tf.compat.v1.placeholder instead.\n",
      "\n",
      "W0825 22:04:23.445987 139704549701376 deprecation_wrapper.py:119] From /home/wayexists02/projects/sound_attgan/SoundAttNet.py:59: The name tf.summary.audio is deprecated. Please use tf.compat.v1.summary.audio instead.\n",
      "\n"
     ]
    },
    {
     "name": "stdout",
     "output_type": "stream",
     "text": [
      "Building SoundAttNet\n"
     ]
    },
    {
     "name": "stderr",
     "output_type": "stream",
     "text": [
      "W0825 22:04:23.767914 139704549701376 deprecation.py:323] From /home/wayexists02/miniconda3/envs/tf1env/lib/python3.7/site-packages/tensorflow/python/ops/math_grad.py:1205: add_dispatch_support.<locals>.wrapper (from tensorflow.python.ops.array_ops) is deprecated and will be removed in a future version.\n",
      "Instructions for updating:\n",
      "Use tf.where in 2.0, which has the same broadcast rule as np.where\n",
      "W0825 22:04:24.755901 139704549701376 deprecation_wrapper.py:119] From /home/wayexists02/projects/sound_attgan/SoundAttNet.py:89: The name tf.summary.scalar is deprecated. Please use tf.compat.v1.summary.scalar instead.\n",
      "\n",
      "W0825 22:04:25.031654 139704549701376 deprecation_wrapper.py:119] From /home/wayexists02/projects/sound_attgan/SoundAttNet.py:94: The name tf.Session is deprecated. Please use tf.compat.v1.Session instead.\n",
      "\n",
      "W0825 22:04:27.892101 139704549701376 deprecation_wrapper.py:119] From /home/wayexists02/projects/sound_attgan/SoundAttNet.py:95: The name tf.global_variables_initializer is deprecated. Please use tf.compat.v1.global_variables_initializer instead.\n",
      "\n",
      "W0825 22:04:31.148872 139704549701376 deprecation_wrapper.py:119] From /home/wayexists02/projects/sound_attgan/SoundAttNet.py:97: The name tf.summary.FileWriter is deprecated. Please use tf.compat.v1.summary.FileWriter instead.\n",
      "\n",
      "W0825 22:04:31.479975 139704549701376 deprecation_wrapper.py:119] From /home/wayexists02/projects/sound_attgan/SoundAttNet.py:98: The name tf.summary.merge_all is deprecated. Please use tf.compat.v1.summary.merge_all instead.\n",
      "\n",
      "W0825 22:04:31.483948 139704549701376 deprecation_wrapper.py:119] From /home/wayexists02/projects/sound_attgan/SoundAttNet.py:100: The name tf.train.Saver is deprecated. Please use tf.compat.v1.train.Saver instead.\n",
      "\n"
     ]
    },
    {
     "name": "stdout",
     "output_type": "stream",
     "text": [
      "SoundAttNet was built.\n"
     ]
    }
   ],
   "source": [
    "net = SoundAttNet()\n",
    "net.build()"
   ]
  },
  {
   "cell_type": "code",
   "execution_count": null,
   "metadata": {},
   "outputs": [
    {
     "name": "stdout",
     "output_type": "stream",
     "text": [
      "SoundAttNet was loaded.\n",
      "Train loss: 1.35248749\n",
      "Train loss: 1.33190587\n",
      "Train loss: 1.30769702\n"
     ]
    }
   ],
   "source": [
    "net.load(\"./ckpts/model\")\n",
    "\n",
    "for e in range(EPOCHS):\n",
    "    train_losses = 0.0\n",
    "    \n",
    "    for y_batch, att_batch in dloader.next_batch():\n",
    "        loss = net.step(y_batch, att_batch)\n",
    "        train_losses += loss\n",
    "        \n",
    "    train_losses /= len(dloader)\n",
    "    \n",
    "    print(f\"Train loss: {train_losses:.8f}\")"
   ]
  },
  {
   "cell_type": "code",
   "execution_count": null,
   "metadata": {},
   "outputs": [],
   "source": [
    "net.save(\"./ckpts/model\")"
   ]
  },
  {
   "cell_type": "code",
   "execution_count": null,
   "metadata": {},
   "outputs": [],
   "source": []
  }
 ],
 "metadata": {
  "kernelspec": {
   "display_name": "Python 3",
   "language": "python",
   "name": "python3"
  },
  "language_info": {
   "codemirror_mode": {
    "name": "ipython",
    "version": 3
   },
   "file_extension": ".py",
   "mimetype": "text/x-python",
   "name": "python",
   "nbconvert_exporter": "python",
   "pygments_lexer": "ipython3",
   "version": "3.7.3"
  }
 },
 "nbformat": 4,
 "nbformat_minor": 4
}
